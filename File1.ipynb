{
 "cells": [
  {
   "cell_type": "code",
   "execution_count": 27,
   "metadata": {},
   "outputs": [],
   "source": [
    "import pandas as pd\n",
    "import matplotlib.pyplot as plt\n",
    "import seaborn as sns"
   ]
  },
  {
   "cell_type": "code",
   "execution_count": 28,
   "metadata": {},
   "outputs": [],
   "source": [
    "batting_data = pd.read_excel('Batsman_round1.xlsx')\n",
    "bowling_data = pd.read_excel('Bowler_round1.xlsx')\n",
    "match_data = pd.read_excel('Matchlevel_round1.xlsx')"
   ]
  },
  {
   "cell_type": "code",
   "execution_count": 29,
   "metadata": {},
   "outputs": [
    {
     "name": "stdout",
     "output_type": "stream",
     "text": [
      "       match id batsman  batsman_id batsman_dob  \\\n",
      "0       8638034   DG Be       31464  1984-07-30   \n",
      "1       8638041   DG Be       31464  1984-07-30   \n",
      "2       8638055   DG Be       31464  1984-07-30   \n",
      "3       8587802   DT Cn       34061  1983-05-04   \n",
      "4       8587802   DT Cn       34061  1983-05-04   \n",
      "...         ...     ...         ...         ...   \n",
      "24920   9684982   Sv Dy     9822322  2003-12-23   \n",
      "24921   9684541   PR Vr     9822392  2005-11-24   \n",
      "24922   9866331   BJ Js     9874052  2002-05-06   \n",
      "24923   9887856    T Si     9883250  2005-06-04   \n",
      "24924   9887856    S Ua     9899140  1997-02-22   \n",
      "\n",
      "                                  batsman_details  is_batsman_captain  \\\n",
      "0             NZ:Right-hand bat:Right-arm medium:                   0   \n",
      "1             NZ:Right-hand bat:Right-arm medium:                   0   \n",
      "2             NZ:Right-hand bat:Right-arm medium:                   0   \n",
      "3       AUS:Right-hand bat:Right-arm fast-medium:                   0   \n",
      "4       AUS:Right-hand bat:Right-arm fast-medium:                   0   \n",
      "...                                           ...                 ...   \n",
      "24920        IND:Right-hand bat:Right-arm medium:                   0   \n",
      "24921  IND:Right-hand bat:Slow left-arm orthodox:                   0   \n",
      "24922         NZ:Right-hand bat:Right-arm medium:                   0   \n",
      "24923                    UAE:Right-hand bat:None:                   0   \n",
      "24924                 UAE:Left-hand bat:Legbreak:                   0   \n",
      "\n",
      "       is_batsman_keeper  inning  runs  balls_faced  ...  bowler_id  \\\n",
      "0                      0       1   8.0           11  ...  2486896.0   \n",
      "1                      0       1   2.0            4  ...  4195827.0   \n",
      "2                      0       2   0.0            3  ...  8447396.0   \n",
      "3                      0       2   0.0            1  ...  6722540.0   \n",
      "4                      0       2   0.0            1  ...  6722540.0   \n",
      "...                  ...     ...   ...          ...  ...        ...   \n",
      "24920                  0       1   0.0            1  ...        NaN   \n",
      "24921                  0       1   0.0            1  ...  9822441.0   \n",
      "24922                  0       2  42.0           20  ...  2486896.0   \n",
      "24923                  1       2  20.0           25  ...        NaN   \n",
      "24924                  0       2   4.0           10  ...  6819238.0   \n",
      "\n",
      "       bowler_dob                             bowler_details is_bowler_keeper  \\\n",
      "0      1990-09-17    NZ:Left-hand bat:Right-arm medium-fast:              0.0   \n",
      "1      1993-04-13        NZ:Right-hand bat:Right-arm medium:              0.0   \n",
      "2      1994-12-14   NZ:Left-hand bat:Slow left-arm orthodox:              0.0   \n",
      "3      2000-08-02        NEP:Right-hand bat:Legbreak googly:              0.0   \n",
      "4      2000-08-02        NEP:Right-hand bat:Legbreak googly:              0.0   \n",
      "...           ...                                        ...              ...   \n",
      "24920         NaN                                        NaN              NaN   \n",
      "24921  1996-11-10  IND:Right-hand bat:Right-arm medium-fast:              0.0   \n",
      "24922  1990-09-17    NZ:Left-hand bat:Right-arm medium-fast:              0.0   \n",
      "24923         NaN                                        NaN              NaN   \n",
      "24924  2000-09-22   AFG:Right-hand bat:Left-arm fast-medium:              0.0   \n",
      "\n",
      "       is_bowler_captain strike_rate Fours  Sixes    match_dt  \\\n",
      "0                    0.0       72.73     1    NaN  2021-01-01   \n",
      "1                    0.0       50.00   NaN    NaN  2021-01-02   \n",
      "2                    0.0        0.00   NaN    NaN  2021-01-04   \n",
      "3                    0.0        0.00   NaN    NaN  2021-01-24   \n",
      "4                    0.0        0.00   NaN    NaN  2021-01-24   \n",
      "...                  ...         ...   ...    ...         ...   \n",
      "24920                NaN        0.00   NaN    NaN  2023-11-04   \n",
      "24921                0.0        0.00   NaN    NaN  2023-10-21   \n",
      "24922                0.0      210.00     4      3  2023-12-19   \n",
      "24923                NaN       80.00     1    NaN  2023-12-29   \n",
      "24924                0.0       40.00   NaN    NaN  2023-12-29   \n",
      "\n",
      "       ingestion_timestamp  \n",
      "0      2022-03-22 12:43:21  \n",
      "1      2022-03-22 12:43:21  \n",
      "2      2022-03-22 12:43:21  \n",
      "3      2022-03-22 12:43:21  \n",
      "4      2022-03-13 18:43:20  \n",
      "...                    ...  \n",
      "24920  2024-03-26 03:41:36  \n",
      "24921  2024-03-26 03:41:36  \n",
      "24922  2024-03-26 03:41:36  \n",
      "24923  2024-03-26 03:41:36  \n",
      "24924  2024-03-26 03:41:36  \n",
      "\n",
      "[24925 rows x 24 columns]\n"
     ]
    }
   ],
   "source": [
    "print(batting_data)"
   ]
  },
  {
   "cell_type": "code",
   "execution_count": 30,
   "metadata": {},
   "outputs": [
    {
     "name": "stdout",
     "output_type": "stream",
     "text": [
      "   match id bowler  bowler_id  bowler_dob  \\\n",
      "0   8587837  DT Cn      34061  1983-05-04   \n",
      "1   8587907  DT Cn      34061  1983-05-04   \n",
      "2   8587816  DT Cn      34061  1983-05-04   \n",
      "3   8587998  DT Cn      34061  1983-05-04   \n",
      "4   8588040  DT Cn      34061  1983-05-04   \n",
      "\n",
      "                              bowler_details  is_bowler_captain  \\\n",
      "0  AUS:Right-hand bat:Right-arm fast-medium:                  0   \n",
      "1  AUS:Right-hand bat:Right-arm fast-medium:                  0   \n",
      "2  AUS:Right-hand bat:Right-arm fast-medium:                  0   \n",
      "3  AUS:Right-hand bat:Right-arm fast-medium:                  0   \n",
      "4  AUS:Right-hand bat:Right-arm fast-medium:                  0   \n",
      "\n",
      "   is_bowler_keeper  inning  runs  wicket_count  balls_bowled  economy  \\\n",
      "0                 0       2  35.0             2            18    11.67   \n",
      "1                 0       1  22.0             1            24     5.50   \n",
      "2                 0       1  34.0             0            25     8.16   \n",
      "3                 0       1  34.0             1            18    11.33   \n",
      "4                 0       1  20.0             0            12    10.00   \n",
      "\n",
      "   maiden dots  Fours  Sixes wides  noballs    match_dt ingestion_timestamp  \n",
      "0       0    4      3      1     2        0  2021-01-02 2022-03-21 03:44:58  \n",
      "1       0    7      0      0     1        0  2021-01-03 2022-03-21 03:44:58  \n",
      "2       0    7      4      0     1        0  2021-01-06 2022-03-21 03:44:58  \n",
      "3       0    8      4      2     1        0  2021-01-10 2022-03-21 03:44:58  \n",
      "4       0    4      1      1     1        0  2021-01-13 2022-03-21 03:44:58  \n"
     ]
    }
   ],
   "source": [
    "print(bowling_data.head())"
   ]
  },
  {
   "cell_type": "code",
   "execution_count": 31,
   "metadata": {},
   "outputs": [
    {
     "name": "stdout",
     "output_type": "stream",
     "text": [
      "   match id  team1  team2 outcome winner       by  win amount player of match  \\\n",
      "0   8587795  Ae Ss  Me Rs  normal  Me Rs  wickets           6           Md Ni   \n",
      "1   8587802  Ht Hs  Sy Ss  normal  Ht Hs     runs           7           MS We   \n",
      "2   8587816  Ph Ss  Sy Ss  normal  Ph Ss      NaN          86           MR Mh   \n",
      "3   8587837  Sy Ss  Be Ht  normal  Be Ht  wickets           4           MT Se   \n",
      "4   8587844  Ae Ss  Me Rs  normal  Ae Ss     runs          60           RJ Gn   \n",
      "\n",
      "  toss winner toss decision  ... inning2_runs inning2_wickets inning2_balls  \\\n",
      "0       Ae Ss           bat  ...          178               4           120   \n",
      "1       Sy Ss         field  ...          181               8           120   \n",
      "2       Sy Ss         field  ...           97              10           100   \n",
      "3       Sy Ss           bat  ...          171               6           119   \n",
      "4       Ae Ss           bat  ...          111             Ten           116   \n",
      "\n",
      "  team1_id                                 team1_roster_names  \\\n",
      "0  33914.0  MT Rw:PD St:AT Cy:J Wd:RJ Gn:JW Ws:Rd Kn:DR Bs...   \n",
      "1  33928.0  MS We:DM St:BR Mt:DJ Mn:WG Js:TH Dd:NT Es:NP W...   \n",
      "2  33935.0  JJ Ry:LS Le:C Mo:JP Is:MR Mh:AJ Tr:AM He:JA Rn...   \n",
      "3  33956.0  JR Pe:J Es:JM Ve:DP Hs:JC Sk:DT Cn:CR Be:BJ Ds...   \n",
      "4  33914.0  MT Rw:PD St:AT Cy:JW Ws:RJ Gn:J Wd:Rd Kn:DR Bs...   \n",
      "\n",
      "                                    team1_roster_ids team2_id  \\\n",
      "0  5056134.0:4685568.0:2285051.0:5469008.0:577649...  33942.0   \n",
      "1  1611364.0:2161599.0:4223883.0:1655436.0:628285...  33956.0   \n",
      "2  2089079.0:2827327.0:1626526.0:4635658.0:190716...  33956.0   \n",
      "3  7869987.0:7620283.0:2076192.0:4002340.0:306369...  33921.0   \n",
      "4  5056134.0:4685568.0:2285051.0:1635773.0:577649...  33942.0   \n",
      "\n",
      "                                  team2_roster_names  \\\n",
      "0  MW Hy:AJ Fh:SB Hr:Md Ni:JA Pe:J Fk:BJ Wr:Id Wm...   \n",
      "1  JR Pe:JM Ve:DP Hs:MC Hs:JC Sk:DT Cn:CR Be:SA A...   \n",
      "2  JR Pe:J Es:JM Ve:DP Hs:JC Sk:DT Cn:CR Be:SJ Oe...   \n",
      "3  M Bt:JA Bs:JL Dy:SD Ht:JJ Pn:L Gy:JJ By:JD Wh:...   \n",
      "4  AJ Fh:MW Hy:SB Hr:Md Ni:BJ Wr:Id Wm:J Fk:JA Pe...   \n",
      "\n",
      "                                    team2_roster_ids ingestion_timestamp  \n",
      "0  7534687.0:37351.0:5406540.0:181404.0:6842170.0... 2022-02-18 03:12:45  \n",
      "1  7869987.0:2076192.0:4002340.0:41740.0:3063696.... 2022-02-18 03:12:45  \n",
      "2  7869987.0:7620283.0:2076192.0:4002340.0:306369... 2022-02-18 03:12:45  \n",
      "3  7620269.0:2286437.0:87191.0:5786766.0:3114803.... 2022-02-18 03:12:45  \n",
      "4  37351.0:7534687.0:5406540.0:181404.0:2669316.0... 2022-02-18 03:12:45  \n",
      "\n",
      "[5 rows x 33 columns]\n"
     ]
    }
   ],
   "source": [
    "print(match_data.head())"
   ]
  },
  {
   "cell_type": "code",
   "execution_count": 32,
   "metadata": {},
   "outputs": [
    {
     "data": {
      "text/plain": [
       "match id                        int64\n",
       "batsman                        object\n",
       "batsman_id                      int64\n",
       "batsman_dob                    object\n",
       "batsman_details                object\n",
       "is_batsman_captain              int64\n",
       "is_batsman_keeper               int64\n",
       "inning                          int64\n",
       "runs                          float64\n",
       "balls_faced                     int64\n",
       "over_faced_first              float64\n",
       "wicket kind                    object\n",
       "out_by_bowler                  object\n",
       "out_by_fielder                 object\n",
       "bowler_id                     float64\n",
       "bowler_dob                     object\n",
       "bowler_details                 object\n",
       "is_bowler_keeper              float64\n",
       "is_bowler_captain             float64\n",
       "strike_rate                   float64\n",
       "Fours                          object\n",
       "Sixes                          object\n",
       "match_dt                       object\n",
       "ingestion_timestamp    datetime64[ns]\n",
       "dtype: object"
      ]
     },
     "execution_count": 32,
     "metadata": {},
     "output_type": "execute_result"
    }
   ],
   "source": [
    "batting_data.dtypes\n"
   ]
  },
  {
   "cell_type": "code",
   "execution_count": 33,
   "metadata": {},
   "outputs": [
    {
     "data": {
      "text/plain": [
       "match id                        int64\n",
       "bowler                         object\n",
       "bowler_id                       int64\n",
       "bowler_dob                     object\n",
       "bowler_details                 object\n",
       "is_bowler_captain               int64\n",
       "is_bowler_keeper                int64\n",
       "inning                          int64\n",
       "runs                          float64\n",
       "wicket_count                    int64\n",
       "balls_bowled                    int64\n",
       "economy                       float64\n",
       "maiden                          int64\n",
       "dots                           object\n",
       "Fours                           int64\n",
       "Sixes                           int64\n",
       "wides                          object\n",
       "noballs                         int64\n",
       "match_dt                       object\n",
       "ingestion_timestamp    datetime64[ns]\n",
       "dtype: object"
      ]
     },
     "execution_count": 33,
     "metadata": {},
     "output_type": "execute_result"
    }
   ],
   "source": [
    "bowling_data.dtypes"
   ]
  },
  {
   "cell_type": "code",
   "execution_count": 34,
   "metadata": {},
   "outputs": [
    {
     "data": {
      "text/plain": [
       "match id                        int64\n",
       "team1                          object\n",
       "team2                          object\n",
       "outcome                        object\n",
       "winner                         object\n",
       "by                             object\n",
       "win amount                      int64\n",
       "player of match                object\n",
       "toss winner                    object\n",
       "toss decision                  object\n",
       "match type                     object\n",
       "venue                          object\n",
       "city                           object\n",
       "match_dt                       object\n",
       "lighting                       object\n",
       "series_name                    object\n",
       "season                         object\n",
       "ground_id                       int64\n",
       "umpire1                        object\n",
       "umpire2                        object\n",
       "inning1_runs                    int64\n",
       "inning1_wickets                object\n",
       "inning1_balls                   int64\n",
       "inning2_runs                    int64\n",
       "inning2_wickets                object\n",
       "inning2_balls                   int64\n",
       "team1_id                      float64\n",
       "team1_roster_names             object\n",
       "team1_roster_ids               object\n",
       "team2_id                      float64\n",
       "team2_roster_names             object\n",
       "team2_roster_ids               object\n",
       "ingestion_timestamp    datetime64[ns]\n",
       "dtype: object"
      ]
     },
     "execution_count": 34,
     "metadata": {},
     "output_type": "execute_result"
    }
   ],
   "source": [
    "match_data.dtypes"
   ]
  },
  {
   "cell_type": "code",
   "execution_count": 35,
   "metadata": {},
   "outputs": [
    {
     "data": {
      "text/plain": [
       "(Index(['match id', 'batsman', 'batsman_id', 'batsman_dob', 'batsman_details',\n",
       "        'is_batsman_captain', 'is_batsman_keeper', 'inning', 'runs',\n",
       "        'balls_faced', 'over_faced_first', 'wicket kind', 'out_by_bowler',\n",
       "        'out_by_fielder', 'bowler_id', 'bowler_dob', 'bowler_details',\n",
       "        'is_bowler_keeper', 'is_bowler_captain', 'strike_rate', 'Fours',\n",
       "        'Sixes', 'match_dt', 'ingestion_timestamp'],\n",
       "       dtype='object'),\n",
       " Index(['match id', 'bowler', 'bowler_id', 'bowler_dob', 'bowler_details',\n",
       "        'is_bowler_captain', 'is_bowler_keeper', 'inning', 'runs',\n",
       "        'wicket_count', 'balls_bowled', 'economy', 'maiden', 'dots', 'Fours',\n",
       "        'Sixes', 'wides', 'noballs', 'match_dt', 'ingestion_timestamp'],\n",
       "       dtype='object'),\n",
       " Index(['match id', 'team1', 'team2', 'outcome', 'winner', 'by', 'win amount',\n",
       "        'player of match', 'toss winner', 'toss decision', 'match type',\n",
       "        'venue', 'city', 'match_dt', 'lighting', 'series_name', 'season',\n",
       "        'ground_id', 'umpire1', 'umpire2', 'inning1_runs', 'inning1_wickets',\n",
       "        'inning1_balls', 'inning2_runs', 'inning2_wickets', 'inning2_balls',\n",
       "        'team1_id', 'team1_roster_names', 'team1_roster_ids', 'team2_id',\n",
       "        'team2_roster_names', 'team2_roster_ids', 'ingestion_timestamp'],\n",
       "       dtype='object'))"
      ]
     },
     "execution_count": 35,
     "metadata": {},
     "output_type": "execute_result"
    }
   ],
   "source": [
    "batting_data.columns,bowling_data.columns,match_data.columns"
   ]
  },
  {
   "cell_type": "code",
   "execution_count": 36,
   "metadata": {},
   "outputs": [],
   "source": [
    "batting_data.drop_duplicates(inplace=True)\n",
    "bowling_data.drop_duplicates(inplace=True)\n",
    "match_data.drop_duplicates(inplace=True)\n",
    "\n"
   ]
  },
  {
   "cell_type": "code",
   "execution_count": 37,
   "metadata": {},
   "outputs": [
    {
     "name": "stdout",
     "output_type": "stream",
     "text": [
      "match id                   0\n",
      "batsman                    0\n",
      "batsman_id                 0\n",
      "batsman_dob                0\n",
      "batsman_details            0\n",
      "is_batsman_captain         0\n",
      "is_batsman_keeper          0\n",
      "inning                     0\n",
      "runs                      50\n",
      "balls_faced                0\n",
      "over_faced_first           0\n",
      "wicket kind             5470\n",
      "out_by_bowler           5470\n",
      "out_by_fielder         10950\n",
      "bowler_id               6518\n",
      "bowler_dob              6518\n",
      "bowler_details          6518\n",
      "is_bowler_keeper        5931\n",
      "is_bowler_captain       6518\n",
      "strike_rate              100\n",
      "Fours                  10482\n",
      "Sixes                  15718\n",
      "match_dt                   0\n",
      "ingestion_timestamp        0\n",
      "dtype: int64\n"
     ]
    }
   ],
   "source": [
    "print(batting_data.isnull().sum())"
   ]
  },
  {
   "cell_type": "code",
   "execution_count": 38,
   "metadata": {},
   "outputs": [],
   "source": [
    "batting_data['runs'] = batting_data['runs'].fillna(batting_data['runs'].mean())\n",
    "batting_data['strike_rate'] = batting_data['strike_rate'].fillna(batting_data['strike_rate'].mean())\n"
   ]
  },
  {
   "cell_type": "code",
   "execution_count": 39,
   "metadata": {},
   "outputs": [
    {
     "name": "stdout",
     "output_type": "stream",
     "text": [
      "match id                   0\n",
      "batsman                    0\n",
      "batsman_id                 0\n",
      "batsman_dob                0\n",
      "batsman_details            0\n",
      "is_batsman_captain         0\n",
      "is_batsman_keeper          0\n",
      "inning                     0\n",
      "runs                       0\n",
      "balls_faced                0\n",
      "over_faced_first           0\n",
      "wicket kind             5470\n",
      "out_by_bowler           5470\n",
      "out_by_fielder         10950\n",
      "bowler_id               6518\n",
      "bowler_dob              6518\n",
      "bowler_details          6518\n",
      "is_bowler_keeper        5931\n",
      "is_bowler_captain       6518\n",
      "strike_rate                0\n",
      "Fours                  10482\n",
      "Sixes                  15718\n",
      "match_dt                   0\n",
      "ingestion_timestamp        0\n",
      "dtype: int64\n"
     ]
    }
   ],
   "source": [
    "print(batting_data.isnull().sum())"
   ]
  },
  {
   "cell_type": "code",
   "execution_count": 40,
   "metadata": {},
   "outputs": [
    {
     "name": "stdout",
     "output_type": "stream",
     "text": [
      "match id                0\n",
      "bowler                  0\n",
      "bowler_id               0\n",
      "bowler_dob              0\n",
      "bowler_details          0\n",
      "is_bowler_captain       0\n",
      "is_bowler_keeper        0\n",
      "inning                  0\n",
      "runs                   50\n",
      "wicket_count            0\n",
      "balls_bowled            0\n",
      "economy                50\n",
      "maiden                  0\n",
      "dots                    2\n",
      "Fours                   0\n",
      "Sixes                   0\n",
      "wides                  35\n",
      "noballs                 0\n",
      "match_dt                0\n",
      "ingestion_timestamp     0\n",
      "dtype: int64\n"
     ]
    }
   ],
   "source": [
    "print(bowling_data.isnull().sum())"
   ]
  },
  {
   "cell_type": "code",
   "execution_count": 41,
   "metadata": {},
   "outputs": [],
   "source": [
    "bowling_data['runs'] = bowling_data['runs'].fillna(bowling_data['runs'].mean())\n",
    "bowling_data['economy'] = bowling_data['economy'].fillna(bowling_data['economy'].mean())"
   ]
  },
  {
   "cell_type": "code",
   "execution_count": 42,
   "metadata": {},
   "outputs": [
    {
     "name": "stdout",
     "output_type": "stream",
     "text": [
      "match id                0\n",
      "bowler                  0\n",
      "bowler_id               0\n",
      "bowler_dob              0\n",
      "bowler_details          0\n",
      "is_bowler_captain       0\n",
      "is_bowler_keeper        0\n",
      "inning                  0\n",
      "runs                    0\n",
      "wicket_count            0\n",
      "balls_bowled            0\n",
      "economy                 0\n",
      "maiden                  0\n",
      "dots                    2\n",
      "Fours                   0\n",
      "Sixes                   0\n",
      "wides                  35\n",
      "noballs                 0\n",
      "match_dt                0\n",
      "ingestion_timestamp     0\n",
      "dtype: int64\n"
     ]
    }
   ],
   "source": [
    "print(bowling_data.isnull().sum())"
   ]
  },
  {
   "cell_type": "code",
   "execution_count": 43,
   "metadata": {},
   "outputs": [
    {
     "name": "stdout",
     "output_type": "stream",
     "text": [
      "match id                 0\n",
      "team1                    0\n",
      "team2                    0\n",
      "outcome                  0\n",
      "winner                   0\n",
      "by                      52\n",
      "win amount               0\n",
      "player of match          0\n",
      "toss winner              0\n",
      "toss decision            0\n",
      "match type               0\n",
      "venue                    0\n",
      "city                   184\n",
      "match_dt                 0\n",
      "lighting                 0\n",
      "series_name              0\n",
      "season                   0\n",
      "ground_id                0\n",
      "umpire1                186\n",
      "umpire2                186\n",
      "inning1_runs             0\n",
      "inning1_wickets          0\n",
      "inning1_balls            0\n",
      "inning2_runs             0\n",
      "inning2_wickets          0\n",
      "inning2_balls            0\n",
      "team1_id                82\n",
      "team1_roster_names       0\n",
      "team1_roster_ids        82\n",
      "team2_id                76\n",
      "team2_roster_names       0\n",
      "team2_roster_ids        76\n",
      "ingestion_timestamp      0\n",
      "dtype: int64\n"
     ]
    }
   ],
   "source": [
    "print(match_data.isnull().sum())"
   ]
  },
  {
   "cell_type": "code",
   "execution_count": 44,
   "metadata": {},
   "outputs": [
    {
     "name": "stderr",
     "output_type": "stream",
     "text": [
      "C:\\Users\\singh\\AppData\\Local\\Temp\\ipykernel_23072\\65252112.py:9: FutureWarning: ChainedAssignmentError: behaviour will change in pandas 3.0!\n",
      "You are setting values through chained assignment. Currently this works in certain cases, but when using Copy-on-Write (which will become the default behaviour in pandas 3.0) this will never work to update the original DataFrame or Series, because the intermediate object on which we are setting values will behave as a copy.\n",
      "A typical example is when you are setting values in a column of a DataFrame, like:\n",
      "\n",
      "df[\"col\"][row_indexer] = value\n",
      "\n",
      "Use `df.loc[row_indexer, \"col\"] = values` instead, to perform the assignment in a single step and ensure this keeps updating the original `df`.\n",
      "\n",
      "See the caveats in the documentation: https://pandas.pydata.org/pandas-docs/stable/user_guide/indexing.html#returning-a-view-versus-a-copy\n",
      "\n",
      "  df[col][outliers] = np.nan\n",
      "C:\\Users\\singh\\AppData\\Local\\Temp\\ipykernel_23072\\65252112.py:9: SettingWithCopyWarning: \n",
      "A value is trying to be set on a copy of a slice from a DataFrame\n",
      "\n",
      "See the caveats in the documentation: https://pandas.pydata.org/pandas-docs/stable/user_guide/indexing.html#returning-a-view-versus-a-copy\n",
      "  df[col][outliers] = np.nan\n",
      "C:\\Users\\singh\\AppData\\Local\\Temp\\ipykernel_23072\\65252112.py:9: FutureWarning: ChainedAssignmentError: behaviour will change in pandas 3.0!\n",
      "You are setting values through chained assignment. Currently this works in certain cases, but when using Copy-on-Write (which will become the default behaviour in pandas 3.0) this will never work to update the original DataFrame or Series, because the intermediate object on which we are setting values will behave as a copy.\n",
      "A typical example is when you are setting values in a column of a DataFrame, like:\n",
      "\n",
      "df[\"col\"][row_indexer] = value\n",
      "\n",
      "Use `df.loc[row_indexer, \"col\"] = values` instead, to perform the assignment in a single step and ensure this keeps updating the original `df`.\n",
      "\n",
      "See the caveats in the documentation: https://pandas.pydata.org/pandas-docs/stable/user_guide/indexing.html#returning-a-view-versus-a-copy\n",
      "\n",
      "  df[col][outliers] = np.nan\n",
      "C:\\Users\\singh\\AppData\\Local\\Temp\\ipykernel_23072\\65252112.py:9: SettingWithCopyWarning: \n",
      "A value is trying to be set on a copy of a slice from a DataFrame\n",
      "\n",
      "See the caveats in the documentation: https://pandas.pydata.org/pandas-docs/stable/user_guide/indexing.html#returning-a-view-versus-a-copy\n",
      "  df[col][outliers] = np.nan\n",
      "C:\\Users\\singh\\AppData\\Local\\Temp\\ipykernel_23072\\65252112.py:9: FutureWarning: ChainedAssignmentError: behaviour will change in pandas 3.0!\n",
      "You are setting values through chained assignment. Currently this works in certain cases, but when using Copy-on-Write (which will become the default behaviour in pandas 3.0) this will never work to update the original DataFrame or Series, because the intermediate object on which we are setting values will behave as a copy.\n",
      "A typical example is when you are setting values in a column of a DataFrame, like:\n",
      "\n",
      "df[\"col\"][row_indexer] = value\n",
      "\n",
      "Use `df.loc[row_indexer, \"col\"] = values` instead, to perform the assignment in a single step and ensure this keeps updating the original `df`.\n",
      "\n",
      "See the caveats in the documentation: https://pandas.pydata.org/pandas-docs/stable/user_guide/indexing.html#returning-a-view-versus-a-copy\n",
      "\n",
      "  df[col][outliers] = np.nan\n",
      "C:\\Users\\singh\\AppData\\Local\\Temp\\ipykernel_23072\\65252112.py:9: SettingWithCopyWarning: \n",
      "A value is trying to be set on a copy of a slice from a DataFrame\n",
      "\n",
      "See the caveats in the documentation: https://pandas.pydata.org/pandas-docs/stable/user_guide/indexing.html#returning-a-view-versus-a-copy\n",
      "  df[col][outliers] = np.nan\n",
      "C:\\Users\\singh\\AppData\\Local\\Temp\\ipykernel_23072\\65252112.py:9: FutureWarning: ChainedAssignmentError: behaviour will change in pandas 3.0!\n",
      "You are setting values through chained assignment. Currently this works in certain cases, but when using Copy-on-Write (which will become the default behaviour in pandas 3.0) this will never work to update the original DataFrame or Series, because the intermediate object on which we are setting values will behave as a copy.\n",
      "A typical example is when you are setting values in a column of a DataFrame, like:\n",
      "\n",
      "df[\"col\"][row_indexer] = value\n",
      "\n",
      "Use `df.loc[row_indexer, \"col\"] = values` instead, to perform the assignment in a single step and ensure this keeps updating the original `df`.\n",
      "\n",
      "See the caveats in the documentation: https://pandas.pydata.org/pandas-docs/stable/user_guide/indexing.html#returning-a-view-versus-a-copy\n",
      "\n",
      "  df[col][outliers] = np.nan\n",
      "C:\\Users\\singh\\AppData\\Local\\Temp\\ipykernel_23072\\65252112.py:9: SettingWithCopyWarning: \n",
      "A value is trying to be set on a copy of a slice from a DataFrame\n",
      "\n",
      "See the caveats in the documentation: https://pandas.pydata.org/pandas-docs/stable/user_guide/indexing.html#returning-a-view-versus-a-copy\n",
      "  df[col][outliers] = np.nan\n",
      "C:\\Users\\singh\\AppData\\Local\\Temp\\ipykernel_23072\\65252112.py:9: FutureWarning: ChainedAssignmentError: behaviour will change in pandas 3.0!\n",
      "You are setting values through chained assignment. Currently this works in certain cases, but when using Copy-on-Write (which will become the default behaviour in pandas 3.0) this will never work to update the original DataFrame or Series, because the intermediate object on which we are setting values will behave as a copy.\n",
      "A typical example is when you are setting values in a column of a DataFrame, like:\n",
      "\n",
      "df[\"col\"][row_indexer] = value\n",
      "\n",
      "Use `df.loc[row_indexer, \"col\"] = values` instead, to perform the assignment in a single step and ensure this keeps updating the original `df`.\n",
      "\n",
      "See the caveats in the documentation: https://pandas.pydata.org/pandas-docs/stable/user_guide/indexing.html#returning-a-view-versus-a-copy\n",
      "\n",
      "  df[col][outliers] = np.nan\n",
      "C:\\Users\\singh\\AppData\\Local\\Temp\\ipykernel_23072\\65252112.py:9: SettingWithCopyWarning: \n",
      "A value is trying to be set on a copy of a slice from a DataFrame\n",
      "\n",
      "See the caveats in the documentation: https://pandas.pydata.org/pandas-docs/stable/user_guide/indexing.html#returning-a-view-versus-a-copy\n",
      "  df[col][outliers] = np.nan\n",
      "C:\\Users\\singh\\AppData\\Local\\Temp\\ipykernel_23072\\65252112.py:9: FutureWarning: ChainedAssignmentError: behaviour will change in pandas 3.0!\n",
      "You are setting values through chained assignment. Currently this works in certain cases, but when using Copy-on-Write (which will become the default behaviour in pandas 3.0) this will never work to update the original DataFrame or Series, because the intermediate object on which we are setting values will behave as a copy.\n",
      "A typical example is when you are setting values in a column of a DataFrame, like:\n",
      "\n",
      "df[\"col\"][row_indexer] = value\n",
      "\n",
      "Use `df.loc[row_indexer, \"col\"] = values` instead, to perform the assignment in a single step and ensure this keeps updating the original `df`.\n",
      "\n",
      "See the caveats in the documentation: https://pandas.pydata.org/pandas-docs/stable/user_guide/indexing.html#returning-a-view-versus-a-copy\n",
      "\n",
      "  df[col][outliers] = np.nan\n",
      "C:\\Users\\singh\\AppData\\Local\\Temp\\ipykernel_23072\\65252112.py:9: SettingWithCopyWarning: \n",
      "A value is trying to be set on a copy of a slice from a DataFrame\n",
      "\n",
      "See the caveats in the documentation: https://pandas.pydata.org/pandas-docs/stable/user_guide/indexing.html#returning-a-view-versus-a-copy\n",
      "  df[col][outliers] = np.nan\n"
     ]
    }
   ],
   "source": [
    "import numpy as np\n",
    "from scipy import stats\n",
    "\n",
    "# Function to detect outliers using Z-score\n",
    "def detect_outliers(df, columns):\n",
    "    for col in columns:\n",
    "        z_scores = np.abs(stats.zscore(df[col]))\n",
    "        outliers = (z_scores > 3)  # Threshold of 3 standard deviations\n",
    "        df[col][outliers] = np.nan\n",
    "\n",
    "# Function to replace outliers with mean\n",
    "def replace_outliers_with_mean(df, columns):\n",
    "    for col in columns:\n",
    "        z_scores = np.abs(stats.zscore(df[col]))\n",
    "        outliers = (z_scores > 3)  # Redefine outliers based on Z-score\n",
    "        not_outliers = ~(df[col].isnull() | outliers)\n",
    "        mean_val = df.loc[not_outliers, col].mean()\n",
    "        df.loc[outliers, col] = mean_val\n",
    "\n",
    "# Detect outliers in specific columns\n",
    "detect_outliers(batting_data, ['runs', 'strike_rate'])\n",
    "detect_outliers(bowling_data, ['wicket_count', 'economy'])\n",
    "detect_outliers(match_data, ['inning1_runs', 'inning2_runs'])\n",
    "\n",
    "# Replace outliers with mean in specific columns\n",
    "replace_outliers_with_mean(batting_data, ['runs', 'strike_rate'])\n",
    "replace_outliers_with_mean(bowling_data, ['wicket_count', 'economy'])\n",
    "replace_outliers_with_mean(match_data, ['inning1_runs', 'inning2_runs'])\n"
   ]
  },
  {
   "cell_type": "code",
   "execution_count": 45,
   "metadata": {},
   "outputs": [],
   "source": [
    "batting_data.to_excel('clean batsman.xlsx',index=False)\n",
    "bowling_data.to_excel('clean bowling.xlsx',index=False)\n",
    "match_data.to_excel('clean match.xlsx',index=False)"
   ]
  }
 ],
 "metadata": {
  "kernelspec": {
   "display_name": "Python 3",
   "language": "python",
   "name": "python3"
  },
  "language_info": {
   "codemirror_mode": {
    "name": "ipython",
    "version": 3
   },
   "file_extension": ".py",
   "mimetype": "text/x-python",
   "name": "python",
   "nbconvert_exporter": "python",
   "pygments_lexer": "ipython3",
   "version": "3.12.3"
  }
 },
 "nbformat": 4,
 "nbformat_minor": 2
}
